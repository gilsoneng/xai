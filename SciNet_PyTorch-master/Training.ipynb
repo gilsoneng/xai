{
 "cells": [
  {
   "cell_type": "code",
   "execution_count": 9,
   "metadata": {},
   "outputs": [],
   "source": [
    "import torch\n",
    "import torch.nn as nn\n",
    "import torch.nn.functional as F\n",
    "import numpy as np\n",
    "import random\n",
    "from matplotlib import pyplot as plt\n",
    "import torch.optim as optim\n",
    "from torch.utils.data import DataLoader, TensorDataset\n",
    "from models import SciNet\n",
    "from utils import target_loss \n",
    "device = torch.device(\"cuda:0\")"
   ]
  },
  {
   "cell_type": "code",
   "execution_count": 10,
   "metadata": {
    "scrolled": false
   },
   "outputs": [],
   "source": [
    "# Setup scinet model with 3 latent neurons\n",
    "scinet = SciNet(50,1,3,64)\n",
    "\n",
    "# Load and prepare training data\n",
    "inputs = torch.Tensor(np.load(\"training_data/inputs.npy\"))\n",
    "outputs = torch.Tensor(np.load(\"training_data/outputs.npy\"))\n",
    "traindata = TensorDataset(inputs, outputs)\n",
    "dataloader = DataLoader(traindata, batch_size=256,shuffle=True, num_workers=1)\n",
    "     "
   ]
  },
  {
   "cell_type": "code",
   "execution_count": 11,
   "metadata": {
    "scrolled": true
   },
   "outputs": [
    {
     "name": "stdout",
     "output_type": "stream",
     "text": [
      "Epoch 1 -- loss 17.166885, RMS error 0.172342 \n",
      "Epoch 2 -- loss 8.390549, RMS error 0.131993 \n",
      "Epoch 3 -- loss 3.812367, RMS error 0.093114 \n",
      "Epoch 4 -- loss 2.488751, RMS error 0.077170 \n",
      "Epoch 5 -- loss 2.135040, RMS error 0.072566 \n",
      "Epoch 6 -- loss 1.928044, RMS error 0.069411 \n",
      "Epoch 7 -- loss 1.677328, RMS error 0.065018 \n",
      "Epoch 8 -- loss 1.468956, RMS error 0.061594 \n",
      "Epoch 9 -- loss 1.356438, RMS error 0.059912 \n",
      "Epoch 10 -- loss 1.255479, RMS error 0.057961 \n",
      "Epoch 11 -- loss 1.178928, RMS error 0.056248 \n",
      "Epoch 12 -- loss 1.116557, RMS error 0.055000 \n",
      "Epoch 13 -- loss 1.062073, RMS error 0.053808 \n",
      "Epoch 14 -- loss 0.993298, RMS error 0.052097 \n",
      "Epoch 15 -- loss 0.927745, RMS error 0.050380 \n",
      "Epoch 16 -- loss 0.878683, RMS error 0.049168 \n",
      "Epoch 17 -- loss 0.814843, RMS error 0.047572 \n",
      "Epoch 18 -- loss 0.784743, RMS error 0.046707 \n",
      "Epoch 19 -- loss 0.737336, RMS error 0.045539 \n",
      "Epoch 20 -- loss 0.686941, RMS error 0.043994 \n",
      "Epoch 21 -- loss 0.662736, RMS error 0.043319 \n",
      "Epoch 22 -- loss 0.628178, RMS error 0.042096 \n",
      "Epoch 23 -- loss 0.614257, RMS error 0.041527 \n",
      "Epoch 24 -- loss 0.589739, RMS error 0.040511 \n",
      "Epoch 25 -- loss 0.565149, RMS error 0.039629 \n",
      "Epoch 26 -- loss 0.544920, RMS error 0.038806 \n",
      "Epoch 27 -- loss 0.534572, RMS error 0.038295 \n",
      "Epoch 28 -- loss 0.513638, RMS error 0.037538 \n",
      "Epoch 29 -- loss 0.502679, RMS error 0.037186 \n",
      "Epoch 30 -- loss 0.485072, RMS error 0.036438 \n",
      "Epoch 31 -- loss 0.473907, RMS error 0.036106 \n",
      "Epoch 32 -- loss 0.464642, RMS error 0.035810 \n",
      "Epoch 33 -- loss 0.456243, RMS error 0.035488 \n",
      "Epoch 34 -- loss 0.444946, RMS error 0.035034 \n",
      "Epoch 35 -- loss 0.421335, RMS error 0.034146 \n",
      "Epoch 36 -- loss 0.413198, RMS error 0.033882 \n",
      "Epoch 37 -- loss 0.397327, RMS error 0.033399 \n",
      "Epoch 38 -- loss 0.381680, RMS error 0.032863 \n",
      "Epoch 39 -- loss 0.376048, RMS error 0.032670 \n",
      "Epoch 40 -- loss 0.377370, RMS error 0.032884 \n",
      "Epoch 41 -- loss 0.363900, RMS error 0.032245 \n",
      "Epoch 42 -- loss 0.361630, RMS error 0.032072 \n",
      "Epoch 43 -- loss 0.357618, RMS error 0.031929 \n",
      "Epoch 44 -- loss 0.350479, RMS error 0.031603 \n",
      "Epoch 45 -- loss 0.352521, RMS error 0.031838 \n",
      "Epoch 46 -- loss 0.344782, RMS error 0.031354 \n",
      "Epoch 47 -- loss 0.346154, RMS error 0.031500 \n",
      "Epoch 48 -- loss 0.334480, RMS error 0.030941 \n",
      "Epoch 49 -- loss 0.330483, RMS error 0.030853 \n",
      "Epoch 50 -- loss 0.336494, RMS error 0.031076 \n",
      "Epoch 51 -- loss 0.330537, RMS error 0.030805 \n",
      "Epoch 52 -- loss 0.325528, RMS error 0.030651 \n",
      "Epoch 53 -- loss 0.319994, RMS error 0.030328 \n",
      "Epoch 54 -- loss 0.326576, RMS error 0.030626 \n",
      "Epoch 55 -- loss 0.313974, RMS error 0.030095 \n",
      "Epoch 56 -- loss 0.320987, RMS error 0.030440 \n",
      "Epoch 57 -- loss 0.318591, RMS error 0.030382 \n",
      "Epoch 58 -- loss 0.317323, RMS error 0.030262 \n",
      "Epoch 59 -- loss 0.309601, RMS error 0.029870 \n",
      "Epoch 60 -- loss 0.310355, RMS error 0.030062 \n",
      "Epoch 61 -- loss 0.305551, RMS error 0.029738 \n",
      "Epoch 62 -- loss 0.298470, RMS error 0.029373 \n",
      "Epoch 63 -- loss 0.303496, RMS error 0.029620 \n",
      "Epoch 64 -- loss 0.301050, RMS error 0.029534 \n",
      "Epoch 65 -- loss 0.299312, RMS error 0.029424 \n",
      "Epoch 66 -- loss 0.297865, RMS error 0.029402 \n",
      "Epoch 67 -- loss 0.295062, RMS error 0.029253 \n",
      "Epoch 68 -- loss 0.292968, RMS error 0.029068 \n",
      "Epoch 69 -- loss 0.290319, RMS error 0.029073 \n",
      "Epoch 70 -- loss 0.286142, RMS error 0.028859 \n",
      "Epoch 71 -- loss 0.289142, RMS error 0.028949 \n",
      "Epoch 72 -- loss 0.278692, RMS error 0.028459 \n",
      "Epoch 73 -- loss 0.285115, RMS error 0.028794 \n",
      "Epoch 74 -- loss 0.284316, RMS error 0.028779 \n",
      "Epoch 75 -- loss 0.273244, RMS error 0.028223 \n",
      "Epoch 76 -- loss 0.277012, RMS error 0.028351 \n",
      "Epoch 77 -- loss 0.270948, RMS error 0.028160 \n",
      "Epoch 78 -- loss 0.278678, RMS error 0.028364 \n",
      "Epoch 79 -- loss 0.268878, RMS error 0.028012 \n",
      "Epoch 80 -- loss 0.269648, RMS error 0.028048 \n",
      "Epoch 81 -- loss 0.266710, RMS error 0.027894 \n",
      "Epoch 82 -- loss 0.267117, RMS error 0.028031 \n",
      "Epoch 83 -- loss 0.265420, RMS error 0.027889 \n",
      "Epoch 84 -- loss 0.259233, RMS error 0.027483 \n",
      "Epoch 85 -- loss 0.261942, RMS error 0.027616 \n",
      "Epoch 86 -- loss 0.260030, RMS error 0.027662 \n",
      "Epoch 87 -- loss 0.261106, RMS error 0.027519 \n",
      "Epoch 88 -- loss 0.261093, RMS error 0.027625 \n",
      "Epoch 89 -- loss 0.255539, RMS error 0.027256 \n",
      "Epoch 90 -- loss 0.252861, RMS error 0.027241 \n",
      "Epoch 91 -- loss 0.251590, RMS error 0.027246 \n",
      "Epoch 92 -- loss 0.253268, RMS error 0.027166 \n",
      "Epoch 93 -- loss 0.247158, RMS error 0.026983 \n",
      "Epoch 94 -- loss 0.246230, RMS error 0.026929 \n",
      "Epoch 95 -- loss 0.248338, RMS error 0.027015 \n",
      "Epoch 96 -- loss 0.248582, RMS error 0.027119 \n",
      "Epoch 97 -- loss 0.246598, RMS error 0.026835 \n",
      "Epoch 98 -- loss 0.247390, RMS error 0.027009 \n",
      "Epoch 99 -- loss 0.243229, RMS error 0.026723 \n",
      "Epoch 100 -- loss 0.245149, RMS error 0.026848 \n",
      "Model saved to trained_models/scinet1.dat\n"
     ]
    }
   ],
   "source": [
    "# Training setup\n",
    "SAVE_PATH = \"trained_models/scinet1.dat\"\n",
    "N_EPOCHS = 100\n",
    "optimizer = optim.Adam(scinet.parameters())\n",
    "hist_error = []\n",
    "hist_loss = []\n",
    "beta = 0.5\n",
    "\n",
    "# Training loop\n",
    "for epoch in range(N_EPOCHS):  \n",
    "    epoch_error = []\n",
    "    epoch_loss = []\n",
    "    for i_batch, minibatch in enumerate(dataloader):\n",
    "\n",
    "        inputs, outputs = minibatch\n",
    "        optimizer.zero_grad()\n",
    "        pred = scinet.forward(inputs)\n",
    "        \n",
    "        loss = target_loss(pred, outputs) + beta * scinet.kl_loss\n",
    "        loss.backward()\n",
    "        optimizer.step()\n",
    "        error = torch.mean(torch.sqrt((pred[:,0]-outputs)**2)).detach().numpy()\n",
    "        epoch_error.append(error)\n",
    "        epoch_loss.append(loss.data.detach().numpy())\n",
    "    hist_error.append(np.mean(epoch_error))\n",
    "    hist_loss.append(np.mean(epoch_loss))\n",
    "    print(\"Epoch %d -- loss %f, RMS error %f \" % (epoch+1, hist_loss[-1], hist_error[-1]))\n",
    "    \n",
    "torch.save(scinet.state_dict(), SAVE_PATH)\n",
    "print(\"Model saved to %s\" % SAVE_PATH)"
   ]
  },
  {
   "cell_type": "code",
   "execution_count": 12,
   "metadata": {},
   "outputs": [
    {
     "data": {
      "image/png": "[encoded data removed]",
      "text/plain": [
       "<Figure size 432x288 with 2 Axes>"
      ]
     },
     "metadata": {
      "needs_background": "light"
     },
     "output_type": "display_data"
    }
   ],
   "source": [
    "# Plot some training history data\n",
    "%matplotlib inline \n",
    "f, (ax1, ax2) = plt.subplots(2, 1, sharex=True)\n",
    "ax1.plot(hist_error)\n",
    "ax1.set_ylabel(\"Amplitude RMSE\")\n",
    "ax2.plot(hist_loss)\n",
    "ax2.set_ylabel(\"Loss\")\n",
    "ax2.set_xlabel(\"Epoch\")\n",
    "plt.show()"
   ]
  },
  {
   "cell_type": "code",
   "execution_count": null,
   "metadata": {},
   "outputs": [],
   "source": []
  }
 ],
 "metadata": {
  "kernelspec": {
   "display_name": "Python 3",
   "language": "python",
   "name": "python3"
  },
  "language_info": {
   "codemirror_mode": {
    "name": "ipython",
    "version": 3
   },
   "file_extension": ".py",
   "mimetype": "text/x-python",
   "name": "python",
   "nbconvert_exporter": "python",
   "pygments_lexer": "ipython3",
   "version": "3.7.9"
  }
 },
 "nbformat": 4,
 "nbformat_minor": 2
}
