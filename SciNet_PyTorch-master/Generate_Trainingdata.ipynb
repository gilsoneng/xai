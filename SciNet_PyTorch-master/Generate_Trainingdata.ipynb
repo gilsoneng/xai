{
 "cells": [
  {
   "cell_type": "code",
   "execution_count": 4,
   "metadata": {},
   "outputs": [],
   "source": [
    "import torch\n",
    "import torch.nn as nn\n",
    "import torch.nn.functional as F\n",
    "import numpy as np\n",
    "import random\n",
    "from matplotlib import pyplot as plt\n",
    "import torch.optim as optim\n",
    "from utils import pendulum as solution"
   ]
  },
  {
   "cell_type": "code",
   "execution_count": 5,
   "metadata": {},
   "outputs": [],
   "source": [
    "# Generate training data\n",
    "tmax = 10\n",
    "A0 = 1\n",
    "delta0 = 0\n",
    "m = 1\n",
    "\n",
    "train_outputs = []\n",
    "train_inputs = []\n",
    "data = []\n",
    "N_TRAIN = 100000\n",
    "\n",
    "N_SAMPLE = 50\n",
    "\n",
    "counter = 0\n",
    "while len(train_inputs) < N_TRAIN:\n",
    "\n",
    "    b = np.random.uniform(0.5,1)\n",
    "    k = np.random.uniform(5,10)\n",
    "    tprime = np.random.uniform(0,tmax)\n",
    "    question = tprime\n",
    "    answer = solution(tprime,A0,delta0,k,b,m)\n",
    "    if answer == None:\n",
    "        continue\n",
    "\n",
    "    t_arr = np.linspace(0,tmax,N_SAMPLE)\n",
    "    x = solution(t_arr,A0,delta0,k,b,m)\n",
    "    \n",
    "\n",
    "    \n",
    "    \n",
    "    combined_inputs = np.append(x, question)\n",
    "    train_inputs.append( combined_inputs )\n",
    "    train_outputs.append( answer )\n",
    "\n",
    "\n",
    "train_inputs = np.array(train_inputs)\n",
    "train_outputs = np.array(train_outputs)\n",
    "np.save(\"training_data/inputs.npy\", train_inputs)\n",
    "np.save(\"training_data/outputs.npy\", train_outputs)\n"
   ]
  },
  {
   "cell_type": "code",
   "execution_count": 9,
   "metadata": {
    "scrolled": true
   },
   "outputs": [
    {
     "name": "stdout",
     "output_type": "stream",
     "text": [
      "question: 0.34499720799586964\n",
      "answer: 0.4591409549047399\n"
     ]
    },
    {
     "data": {
      "image/png": "[encoded data removed]",
      "text/plain": [
       "<Figure size 432x288 with 1 Axes>"
      ]
     },
     "metadata": {
      "needs_background": "light"
     },
     "output_type": "display_data"
    }
   ],
   "source": [
    "# Plot example training input\n",
    "plt.plot(train_inputs[0][0:-1],\".\")\n",
    "print(\"question:\",train_inputs[0][-1])\n",
    "print(\"answer:\",train_outputs[0])"
   ]
  },
  {
   "cell_type": "code",
   "execution_count": null,
   "metadata": {},
   "outputs": [],
   "source": []
  }
 ],
 "metadata": {
  "kernelspec": {
   "display_name": "Python 3",
   "language": "python",
   "name": "python3"
  },
  "language_info": {
   "codemirror_mode": {
    "name": "ipython",
    "version": 3
   },
   "file_extension": ".py",
   "mimetype": "text/x-python",
   "name": "python",
   "nbconvert_exporter": "python",
   "pygments_lexer": "ipython3",
   "version": "3.7.9"
  }
 },
 "nbformat": 4,
 "nbformat_minor": 2
}
