{
 "cells": [
  {
   "cell_type": "code",
   "execution_count": 1,
   "metadata": {},
   "outputs": [],
   "source": [
    "import torch\n",
    "import torch.nn as nn\n",
    "import torch.nn.functional as F\n",
    "import numpy as np\n",
    "import random\n",
    "from matplotlib import pyplot as plt\n",
    "import torch.optim as optim\n",
    "from torch.utils.data import DataLoader, TensorDataset\n",
    "from models import SciNet\n",
    "from utils import target_loss \n",
    "device = torch.device(\"cuda:0\")"
   ]
  },
  {
   "cell_type": "code",
   "execution_count": 2,
   "metadata": {
    "scrolled": false
   },
   "outputs": [],
   "source": [
    "# Setup scinet model with 3 latent neurons\n",
    "scinet = SciNet(50,1,3,64)\n",
    "\n",
    "# Load and prepare training data\n",
    "inputs = torch.Tensor(np.load(\"training_data/inputs.npy\"))\n",
    "outputs = torch.Tensor(np.load(\"training_data/outputs.npy\"))\n",
    "traindata = TensorDataset(inputs, outputs)\n",
    "dataloader = DataLoader(traindata, batch_size=256,shuffle=True, num_workers=1)\n",
    "     "
   ]
  },
  {
   "cell_type": "code",
   "execution_count": null,
   "metadata": {
    "scrolled": true
   },
   "outputs": [
    {
     "name": "stdout",
     "output_type": "stream",
     "text": [
      "Epoch 1 -- loss 14.637749, RMS error 0.162041 \n",
      "Epoch 2 -- loss 6.254328, RMS error 0.116182 \n",
      "Epoch 3 -- loss 3.638081, RMS error 0.091041 \n",
      "Epoch 4 -- loss 2.448757, RMS error 0.076461 \n",
      "Epoch 5 -- loss 2.093541, RMS error 0.071519 \n",
      "Epoch 6 -- loss 1.923757, RMS error 0.068758 \n",
      "Epoch 7 -- loss 1.713545, RMS error 0.064992 \n",
      "Epoch 8 -- loss 1.454628, RMS error 0.060587 \n",
      "Epoch 9 -- loss 1.272198, RMS error 0.057740 \n",
      "Epoch 10 -- loss 1.150260, RMS error 0.055458 \n",
      "Epoch 11 -- loss 1.058305, RMS error 0.053492 \n",
      "Epoch 12 -- loss 0.976109, RMS error 0.051625 \n",
      "Epoch 13 -- loss 0.885678, RMS error 0.049294 \n",
      "Epoch 14 -- loss 0.849628, RMS error 0.048524 \n",
      "Epoch 15 -- loss 0.794511, RMS error 0.046999 \n",
      "Epoch 16 -- loss 0.738961, RMS error 0.045444 \n",
      "Epoch 17 -- loss 0.704904, RMS error 0.044633 \n",
      "Epoch 18 -- loss 0.675222, RMS error 0.043613 \n",
      "Epoch 19 -- loss 0.646016, RMS error 0.042623 \n",
      "Epoch 20 -- loss 0.614418, RMS error 0.041583 \n",
      "Epoch 21 -- loss 0.592074, RMS error 0.040693 \n",
      "Epoch 22 -- loss 0.579190, RMS error 0.040232 \n",
      "Epoch 23 -- loss 0.568470, RMS error 0.039658 \n",
      "Epoch 24 -- loss 0.550537, RMS error 0.038818 \n",
      "Epoch 25 -- loss 0.525627, RMS error 0.038058 \n",
      "Epoch 26 -- loss 0.522918, RMS error 0.037873 \n",
      "Epoch 27 -- loss 0.512699, RMS error 0.037488 \n",
      "Epoch 28 -- loss 0.502972, RMS error 0.037124 \n",
      "Epoch 29 -- loss 0.496461, RMS error 0.036881 \n",
      "Epoch 30 -- loss 0.477857, RMS error 0.036285 \n",
      "Epoch 31 -- loss 0.472375, RMS error 0.035955 \n",
      "Epoch 32 -- loss 0.456426, RMS error 0.035459 \n",
      "Epoch 33 -- loss 0.452677, RMS error 0.035274 \n",
      "Epoch 34 -- loss 0.447286, RMS error 0.035160 \n",
      "Epoch 35 -- loss 0.433422, RMS error 0.034685 \n",
      "Epoch 36 -- loss 0.411133, RMS error 0.033607 \n",
      "Epoch 37 -- loss 0.407333, RMS error 0.033688 \n",
      "Epoch 38 -- loss 0.389572, RMS error 0.032886 \n",
      "Epoch 39 -- loss 0.391339, RMS error 0.033081 \n",
      "Epoch 40 -- loss 0.374707, RMS error 0.032539 \n",
      "Epoch 41 -- loss 0.369650, RMS error 0.032252 \n",
      "Epoch 42 -- loss 0.364343, RMS error 0.032147 \n",
      "Epoch 43 -- loss 0.349680, RMS error 0.031625 \n",
      "Epoch 44 -- loss 0.351780, RMS error 0.031587 \n",
      "Epoch 45 -- loss 0.346788, RMS error 0.031345 \n",
      "Epoch 46 -- loss 0.345662, RMS error 0.031384 \n",
      "Epoch 47 -- loss 0.342981, RMS error 0.031325 \n",
      "Epoch 48 -- loss 0.333537, RMS error 0.030782 \n",
      "Epoch 49 -- loss 0.328907, RMS error 0.030748 \n"
     ]
    }
   ],
   "source": [
    "# Training setup\n",
    "SAVE_PATH = \"trained_models/scinet1.dat\"\n",
    "N_EPOCHS = 100\n",
    "optimizer = optim.Adam(scinet.parameters())\n",
    "hist_error = []\n",
    "hist_loss = []\n",
    "beta = 0.5\n",
    "\n",
    "# Training loop\n",
    "for epoch in range(N_EPOCHS):  \n",
    "    epoch_error = []\n",
    "    epoch_loss = []\n",
    "    for i_batch, minibatch in enumerate(dataloader):\n",
    "\n",
    "        inputs, outputs = minibatch\n",
    "        optimizer.zero_grad()\n",
    "        pred = scinet.forward(inputs)\n",
    "        \n",
    "        loss = target_loss(pred, outputs) + beta * scinet.kl_loss\n",
    "        loss.backward()\n",
    "        optimizer.step()\n",
    "        error = torch.mean(torch.sqrt((pred[:,0]-outputs)**2)).detach().numpy()\n",
    "        epoch_error.append(error)\n",
    "        epoch_loss.append(loss.data.detach().numpy())\n",
    "    hist_error.append(np.mean(epoch_error))\n",
    "    hist_loss.append(np.mean(epoch_loss))\n",
    "    print(\"Epoch %d -- loss %f, RMS error %f \" % (epoch+1, hist_loss[-1], hist_error[-1]))\n",
    "    \n",
    "torch.save(scinet.state_dict(), SAVE_PATH)\n",
    "print(\"Model saved to %s\" % SAVE_PATH)"
   ]
  },
  {
   "cell_type": "code",
   "execution_count": 4,
   "metadata": {},
   "outputs": [
    {
     "data": {
      "image/png": "[encoded data removed]",
      "text/plain": [
       "<Figure size 432x288 with 2 Axes>"
      ]
     },
     "metadata": {
      "needs_background": "light"
     },
     "output_type": "display_data"
    }
   ],
   "source": [
    "# Plot some training history data\n",
    "%matplotlib inline \n",
    "f, (ax1, ax2) = plt.subplots(2, 1, sharex=True)\n",
    "ax1.plot(hist_error)\n",
    "ax1.set_ylabel(\"Amplitude RMSE\")\n",
    "ax2.plot(hist_loss)\n",
    "ax2.set_ylabel(\"Loss\")\n",
    "ax2.set_xlabel(\"Epoch\")\n",
    "plt.show()"
   ]
  },
  {
   "cell_type": "code",
   "execution_count": null,
   "metadata": {},
   "outputs": [],
   "source": []
  }
 ],
 "metadata": {
  "kernelspec": {
   "display_name": "Python 3",
   "language": "python",
   "name": "python3"
  },
  "language_info": {
   "codemirror_mode": {
    "name": "ipython",
    "version": 3
   },
   "file_extension": ".py",
   "mimetype": "text/x-python",
   "name": "python",
   "nbconvert_exporter": "python",
   "pygments_lexer": "ipython3",
   "version": "3.7.7"
  }
 },
 "nbformat": 4,
 "nbformat_minor": 2
}
